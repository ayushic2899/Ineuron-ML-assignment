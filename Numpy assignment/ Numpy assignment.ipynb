{
 "cells": [
  {
   "cell_type": "markdown",
   "metadata": {},
   "source": [
    "### Write a function so that the columns of the output matrix are powers of the input vector.\n",
    "### The order of the powers is determined by the increasing boolean argument. Specifically, when increasing is False, the i-th output column is the input vector raised element-wise to the power of N - i - 1.\n",
    "### HINT: Such a matrix with a geometric progression in each row is named for AlexandreTheophile Vandermonde."
   ]
  },
  {
   "cell_type": "code",
   "execution_count": 1,
   "metadata": {},
   "outputs": [],
   "source": [
    "import numpy as np"
   ]
  },
  {
   "cell_type": "code",
   "execution_count": 2,
   "metadata": {},
   "outputs": [
    {
     "data": {
      "text/plain": [
       "array([1, 2, 3, 4])"
      ]
     },
     "execution_count": 2,
     "metadata": {},
     "output_type": "execute_result"
    }
   ],
   "source": [
    "x=np.array([1,2,3,4])\n",
    "x"
   ]
  },
  {
   "cell_type": "markdown",
   "metadata": {},
   "source": [
    "numpy.column_stack () function is used to stack 1-D arrays as columns into a 2-D array.It takes a sequence of 1-D arrays and stack them as columns to make a single 2-D array. 2-D arrays are stacked as-is, just like with hstack function"
   ]
  },
  {
   "cell_type": "code",
   "execution_count": 3,
   "metadata": {},
   "outputs": [
    {
     "data": {
      "text/plain": [
       "array([[ 1,  1,  1,  1],\n",
       "       [ 8,  4,  2,  1],\n",
       "       [27,  9,  3,  1],\n",
       "       [64, 16,  4,  1]], dtype=int32)"
      ]
     },
     "execution_count": 3,
     "metadata": {},
     "output_type": "execute_result"
    }
   ],
   "source": [
    "N=4\n",
    "np.column_stack([x**(N-1-i) for i in range (N)])"
   ]
  },
  {
   "cell_type": "markdown",
   "metadata": {},
   "source": [
    "# Problem Statement:"
   ]
  },
  {
   "cell_type": "markdown",
   "metadata": {},
   "source": [
    "### Given a sequence of n values x1, x2, ..., xn and a window size k>0, the k-th moving average of the given sequence is defined as follows:\n",
    "### The moving average sequence has n-k+1 elements as shown below.\n",
    "### The moving averages with k=4 of a ten-value sequence (n=10) is shown below\n"
   ]
  },
  {
   "cell_type": "raw",
   "metadata": {},
   "source": [
    "i 1 2 3 4 5 6 7 8 9 10\n",
    "===== == == == == == == == == == ==\n",
    "Input 10 20 30 40 50 60 70 80 90 100\n",
    "y1 25 = (10+20+30+40)/4\n",
    "y2 35 = (20+30+40+50)/4\n",
    "y3 45 = (30+40+50+60)/4\n",
    "y4 55 = (40+50+60+70)/4\n",
    "y5 65 = (50+60+70+80)/4\n",
    "y6 75 = (60+70+80+90)/4\n",
    "y7 85 = (70+80+90+100)/4\n",
    "Thus, the moving average sequence has n-k+1=10-4+1=7 values."
   ]
  },
  {
   "cell_type": "code",
   "execution_count": 11,
   "metadata": {},
   "outputs": [
    {
     "name": "stdout",
     "output_type": "stream",
     "text": [
      "Enter number of elements of array10\n",
      "Enter values1: 10\n",
      "Enter values2: 20\n",
      "Enter values3: 30\n",
      "Enter values4: 40\n",
      "Enter values5: 50\n",
      "Enter values6: 60\n",
      "Enter values7: 70\n",
      "Enter values8: 80\n",
      "Enter values9: 90\n",
      "Enter values10: 100\n",
      "Enter window size4\n",
      "moving average sequence has 7 values\n",
      "[25.0, 35.0, 45.0, 55.0, 65.0, 75.0, 85.0]\n"
     ]
    }
   ],
   "source": [
    "n=int(input(\"Enter number of elements of array\"))\n",
    "x=[int(input(\"Enter values\"+str(i+1)+\": \")) for i in range (n)]\n",
    "k=int(input(\"Enter window size\"))\n",
    "print(\"moving average sequence has \"+str(n-k+1)+\" values\")\n",
    "list=[] \n",
    "for i in range(k,n+1):\n",
    "    c=x[i-k:i]\n",
    "    z=np.sum(c)/k\n",
    "    list.append(z)\n",
    "print(list)"
   ]
  },
  {
   "cell_type": "markdown",
   "metadata": {},
   "source": [
    "### Write a function to find moving average in an array over a window:\n",
    "### Test it over [3, 5, 7, 2, 8, 10, 11, 65, 72, 81, 99, 100, 150] and window of 3."
   ]
  },
  {
   "cell_type": "code",
   "execution_count": 15,
   "metadata": {},
   "outputs": [
    {
     "name": "stdout",
     "output_type": "stream",
     "text": [
      "Enter number of elements of array13\n",
      "Enter values1: 3\n",
      "Enter values2: 5\n",
      "Enter values3: 7\n",
      "Enter values4: 2\n",
      "Enter values5: 8\n",
      "Enter values6: 10\n",
      "Enter values7: 11\n",
      "Enter values8: 65\n",
      "Enter values9: 72\n",
      "Enter values10: 81\n",
      "Enter values11: 99\n",
      "Enter values12: 100\n",
      "Enter values13: 150\n",
      "Enter window size3\n",
      "moving average sequence has 11 values\n",
      "[5.0, 4.666666666666667, 5.666666666666667, 6.666666666666667, 9.666666666666666, 28.666666666666668, 49.333333333333336, 72.66666666666667, 84.0, 93.33333333333333, 116.33333333333333]\n"
     ]
    }
   ],
   "source": [
    "n=int(input(\"Enter number of elements of array\"))\n",
    "x=[int(input(\"Enter values\"+str(i+1)+\": \")) for i in range (n)]\n",
    "k=int(input(\"Enter window size\"))\n",
    "print(\"moving average sequence has \"+str(n-k+1)+\" values\")\n",
    "list=[] \n",
    "for i in range(k,n+1):\n",
    "    c=x[i-k:i]\n",
    "    z=np.sum(c)/k\n",
    "    list.append(z)\n",
    "print(list)"
   ]
  },
  {
   "cell_type": "code",
   "execution_count": null,
   "metadata": {},
   "outputs": [],
   "source": []
  }
 ],
 "metadata": {
  "kernelspec": {
   "display_name": "Python 3",
   "language": "python",
   "name": "python3"
  },
  "language_info": {
   "codemirror_mode": {
    "name": "ipython",
    "version": 3
   },
   "file_extension": ".py",
   "mimetype": "text/x-python",
   "name": "python",
   "nbconvert_exporter": "python",
   "pygments_lexer": "ipython3",
   "version": "3.7.4"
  }
 },
 "nbformat": 4,
 "nbformat_minor": 2
}
